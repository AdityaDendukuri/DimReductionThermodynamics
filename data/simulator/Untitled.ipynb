{
 "cells": [
  {
   "cell_type": "code",
   "execution_count": 1,
   "metadata": {},
   "outputs": [],
   "source": [
    "import numpy as np\n",
    "import matplotlib.pyplot as plt\n",
    "from mpl_toolkits.mplot3d import Axes3D"
   ]
  },
  {
   "cell_type": "code",
   "execution_count": 10,
   "metadata": {},
   "outputs": [],
   "source": [
    "coordinates = []\n",
    "potentials = []\n",
    "with open(\"dat.txt\") as file:\n",
    "    lines = file.readlines()\n",
    "    for i, line in enumerate(lines):\n",
    "        data = line.split()\n",
    "        coordinates.append([])\n",
    "        potentials.append(float(data[1]))\n",
    "        coordinates[i].append(float(data[2]))\n",
    "        coordinates[i].append(float(data[3]))\n",
    "        coordinates[i].append(float(data[4]))\n",
    "        coordinates[i].append(float(data[7]))\n",
    "        coordinates[i].append(float(data[8]))\n",
    "        coordinates[i].append(float(data[9]))\n",
    "        coordinates[i].append(float(data[12]))\n",
    "        coordinates[i].append(float(data[13]))\n",
    "        coordinates[i].append(float(data[14]))\n",
    "\n",
    "        \n",
    "features = open(\"3P_T018_COORDINATES.txt\", 'w')\n",
    "labels = open(\"3P_T018_POTENTIALS.txt\", 'w')"
   ]
  },
  {
   "cell_type": "code",
   "execution_count": null,
   "metadata": {},
   "outputs": [],
   "source": [
    "for i in range(len(coordinates)):\n",
    "    labels.write(str(potentials[i]) + \" \\n\")\n",
    "    for j in range(len(coordinates[i])):\n",
    "        features.write(str(coordinates[i][j]))\n",
    "        "
   ]
  }
 ],
 "metadata": {
  "kernelspec": {
   "display_name": "Python 3",
   "language": "python",
   "name": "python3"
  },
  "language_info": {
   "codemirror_mode": {
    "name": "ipython",
    "version": 2
   },
   "file_extension": ".py",
   "mimetype": "text/x-python",
   "name": "python",
   "nbconvert_exporter": "python",
   "pygments_lexer": "ipython2",
   "version": "2.7.15"
  }
 },
 "nbformat": 4,
 "nbformat_minor": 2
}
