{
 "cells": [
  {
   "cell_type": "code",
   "execution_count": 1,
   "metadata": {},
   "outputs": [],
   "source": [
    "%matplotlib inline\n",
    "from diffusion_maps import diff_map_solver\n",
    "from dataloader import *\n",
    "from plotter import plot_2d\n",
    "import numpy as np"
   ]
  },
  {
   "cell_type": "code",
   "execution_count": 2,
   "metadata": {},
   "outputs": [],
   "source": [
    "hyper_params = {\n",
    "               #Higher dimension size\n",
    "               'dim_H' : 9,\n",
    "               #Density of the simulation (dimensionless)\n",
    "               'density' : 0.003,\n",
    "               #Num of particles in cluster\n",
    "               'num_particles' : 3,\n",
    "               #Number of configurations to be used (5001 is total)\n",
    "               'num_data' : 50\n",
    "               }\n",
    "            \n",
    "#initialize solver using the defined above  \n",
    "diff_map_solver = diff_map_solver(hyper_params)"
   ]
  },
  {
   "cell_type": "code",
   "execution_count": 3,
   "metadata": {},
   "outputs": [],
   "source": [
    "#load dataset\n",
    "coordinates = load_features(\"../data/3P_CENTERED_COORDINATES.txt\")\n",
    "potentials = load_labels(\"../data/3P_T018_POTENTIALS.txt\", 1)\n",
    "\n",
    "coordinates = coordinates[0:hyper_params['num_data'], :]\n",
    "potentials = potentials[0:hyper_params['num_data']]"
   ]
  },
  {
   "cell_type": "markdown",
   "metadata": {},
   "source": [
    "# STEP 1: Calculate R and G \n",
    "\n",
    "$$\n",
    "   R =\n",
    "  \\left[ {\\begin{array}{cc}\n",
    "   0 & r_{12} & r_{13} \\\\\n",
    "   r_{21} & 0 & r_{23} \\\\\n",
    "   r_{31} & r_{32} &0 \\\\\n",
    "  \\end{array} } \\right] \\\\ \\\\\n",
    "$$\n",
    "\n",
    "Where $r_{ij}$ is distance between particle i and j and G is basically turning R into a binary array (0 and 1) based on cutoff distance.\n"
   ]
  },
  {
   "cell_type": "code",
   "execution_count": 4,
   "metadata": {},
   "outputs": [],
   "source": [
    "R, G = diff_map_solver.calculate_R_G(coordinates)"
   ]
  },
  {
   "cell_type": "markdown",
   "metadata": {},
   "source": [
    "# STEP 2: Execute ISO rank algorithm to get best representing alignments(will add explanation soon.. )"
   ]
  },
  {
   "cell_type": "code",
   "execution_count": 5,
   "metadata": {},
   "outputs": [],
   "source": [
    "R_, G_ = diff_map_solver.isorank(coordinates, R, G)\n"
   ]
  },
  {
   "cell_type": "markdown",
   "metadata": {},
   "source": [
    "# STEP 3: Calc distance matrix\n",
    "\n",
    "The distance matrix is the result of non-linear kernel making it non-linear version of PCA\n",
    "\n",
    "$$d = \\sum_{i} |R^*_i*G^*_i - R_i G_i| = 1$$\n",
    "\n"
   ]
  },
  {
   "cell_type": "code",
   "execution_count": 6,
   "metadata": {},
   "outputs": [
    {
     "name": "stdout",
     "output_type": "stream",
     "text": [
      "[[0.         0.4735343  0.45180824 ... 0.35520188 0.34535543 0.53370119]\n",
      " [0.4735343  0.         0.0409307  ... 0.15903171 0.15641009 0.23600835]\n",
      " [0.45180824 0.0409307  0.         ... 0.11811899 0.19732282 0.21183147]\n",
      " ...\n",
      " [0.35520188 0.15903171 0.11811899 ... 0.         0.31544181 0.20383402]\n",
      " [0.34535543 0.15641009 0.19732282 ... 0.31544181 0.         0.39241844]\n",
      " [0.53370119 0.23600835 0.21183147 ... 0.20383402 0.39241844 0.        ]]\n"
     ]
    }
   ],
   "source": [
    "d = diff_map_solver.compute_d(R, G, R_, G_)\n",
    "print(d)"
   ]
  },
  {
   "cell_type": "code",
   "execution_count": 7,
   "metadata": {},
   "outputs": [
    {
     "name": "stdout",
     "output_type": "stream",
     "text": [
      "[[1.         0.89393933 0.90297055 ... 0.93886443 0.94210817 0.86725825]\n",
      " [0.89393933 1.         0.99916269 ... 0.98743408 0.98784245 0.97253426]\n",
      " [0.90297055 0.99916269 1.         ... 0.99304823 0.98072013 0.97781354]\n",
      " ...\n",
      " [0.93886443 0.98743408 0.99304823 ... 1.         0.95146558 0.97944014]\n",
      " [0.94210817 0.98784245 0.98072013 ... 0.95146558 1.         0.92589345]\n",
      " [0.86725825 0.97253426 0.97781354 ... 0.97944014 0.92589345 1.        ]]\n"
     ]
    }
   ],
   "source": [
    "#compute A matrix (A_ij = e^(d_ij^2 / 2*sigma))\n",
    "A = diff_map_solver.compute_A(d)\n",
    "print(A)"
   ]
  },
  {
   "cell_type": "code",
   "execution_count": 8,
   "metadata": {},
   "outputs": [
    {
     "name": "stdout",
     "output_type": "stream",
     "text": [
      "[[40.32648345  0.          0.         ...  0.          0.\n",
      "   0.        ]\n",
      " [ 0.         42.28196902  0.         ...  0.          0.\n",
      "   0.        ]\n",
      " [ 0.          0.         42.39402701 ...  0.          0.\n",
      "   0.        ]\n",
      " ...\n",
      " [ 0.          0.          0.         ... 42.61146331  0.\n",
      "   0.        ]\n",
      " [ 0.          0.          0.         ...  0.         41.59843645\n",
      "   0.        ]\n",
      " [ 0.          0.          0.         ...  0.          0.\n",
      "  41.64943533]]\n"
     ]
    }
   ],
   "source": [
    "#compute D matrix\n",
    "D = diff_map_solver.compute_D(A)\n",
    "print(D)"
   ]
  },
  {
   "cell_type": "code",
   "execution_count": 9,
   "metadata": {},
   "outputs": [
    {
     "name": "stdout",
     "output_type": "stream",
     "text": [
      "[[0.0247976  0.02216755 0.0223915  ... 0.02328158 0.02336202 0.02150592]\n",
      " [0.02114233 0.02365074 0.02363094 ... 0.02335355 0.02336321 0.02300116]\n",
      " [0.02129948 0.02356848 0.02358823 ... 0.02342425 0.02313345 0.02306489]\n",
      " ...\n",
      " [0.02203314 0.02317297 0.02330472 ... 0.02346786 0.02232886 0.02298537]\n",
      " [0.02264768 0.02374711 0.02357589 ... 0.02287263 0.02403937 0.02225789]\n",
      " [0.02082281 0.02335048 0.02347723 ... 0.02351629 0.02223064 0.02400993]]\n"
     ]
    }
   ],
   "source": [
    "#compute M matrix = D' * A\n",
    "M = diff_map_solver.compute_M(D, A)\n",
    "print(M)"
   ]
  },
  {
   "cell_type": "code",
   "execution_count": 12,
   "metadata": {},
   "outputs": [
    {
     "name": "stdout",
     "output_type": "stream",
     "text": [
      "explained variance saved in exp_cuml_var.png!\n"
     ]
    },
    {
     "data": {
      "image/png": "[encoded data removed]",
      "text/plain": [
       "<Figure size 720x576 with 1 Axes>"
      ]
     },
     "metadata": {
      "needs_background": "light"
     },
     "output_type": "display_data"
    }
   ],
   "source": [
    "eig_vals, eig_vecs = diff_map_solver.generate_eigenspace(M)\n",
    "#sort the eigen space in descending order\n",
    "arr1inds = eig_vals.argsort()\n",
    "eig_vals = eig_vals[arr1inds[::-1]]\n",
    "eig_vecs = eig_vecs[arr1inds[::-1]]\n",
    "#calculate and plot the variance of each eigenvalue\n",
    "diff_map_solver.plot_explained_variance(eig_vals);"
   ]
  },
  {
   "cell_type": "markdown",
   "metadata": {},
   "source": [
    "We can see that the first three eigenvalues basically explain 100% of the variance! Proving dimensionality can be reduced to 2. We need to ignore the first eigenvector as it represents transition to itself. Now Lets see how the reduced space looks like"
   ]
  },
  {
   "cell_type": "code",
   "execution_count": null,
   "metadata": {},
   "outputs": [],
   "source": []
  },
  {
   "cell_type": "code",
   "execution_count": null,
   "metadata": {},
   "outputs": [],
   "source": []
  }
 ],
 "metadata": {
  "kernelspec": {
   "display_name": "Python 3",
   "language": "python",
   "name": "python3"
  },
  "language_info": {
   "codemirror_mode": {
    "name": "ipython",
    "version": 2
   },
   "file_extension": ".py",
   "mimetype": "text/x-python",
   "name": "python",
   "nbconvert_exporter": "python",
   "pygments_lexer": "ipython2",
   "version": "2.7.15"
  }
 },
 "nbformat": 4,
 "nbformat_minor": 2
}
